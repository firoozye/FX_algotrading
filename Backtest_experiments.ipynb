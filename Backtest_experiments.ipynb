{
 "cells": [
  {
   "cell_type": "code",
   "execution_count": 1,
   "id": "37e0baea",
   "metadata": {},
   "outputs": [],
   "source": [
    "import multiprocessing\n",
    "import time\n",
    "import os\n",
    "import random\n",
    "import multiprocessing\n",
    "import warnings\n",
    "warnings.filterwarnings('ignore')\n",
    "import datetime\n",
    "from tqdm import tqdm\n",
    "import gc\n",
    "import matplotlib.pyplot as plt\n",
    "\n",
    "import kaleido\n",
    "import pandas as pd\n",
    "import numpy as np\n",
    "\n",
    "from copy import deepcopy\n",
    "from scipy.linalg import pinv\n",
    "import random\n",
    "from datetime import datetime\n",
    "from sklearn.preprocessing import StandardScaler\n",
    "import matplotlib.dates as mdates\n",
    "from joblib import Parallel, delayed\n",
    "from reportlab.lib.pagesizes import letter\n",
    "from reportlab.platypus import SimpleDocTemplate"
   ]
  },
  {
   "cell_type": "code",
   "execution_count": 2,
   "id": "d01c04cf",
   "metadata": {},
   "outputs": [],
   "source": [
    "from AdaptiveBenignOverfitting import *\n",
    "from forecast_utils import *\n",
    "from backtesting_utils import *"
   ]
  },
  {
   "cell_type": "code",
   "execution_count": 3,
   "id": "33fc8220",
   "metadata": {},
   "outputs": [],
   "source": [
    "fsize = 15\n",
    "tsize = 16\n",
    "tdir = 'in'\n",
    "major = 9.0\n",
    "minor = 5.0\n",
    "lwidth = 0.8\n",
    "lhandle = 2.0\n",
    "plt.style.use('default')\n",
    "#plt.rcParams['text.usetex'] = True\n",
    "plt.rcParams['figure.figsize'] = (10, 6)\n",
    "plt.rcParams['figure.dpi'] = 300  # for preview, doesn't affect savefig\n",
    "plt.rcParams['savefig.dpi'] = 800\n",
    "plt.rcParams['font.size'] = fsize\n",
    "plt.rcParams['legend.fontsize'] = 14\n",
    "plt.rcParams['xtick.direction'] = tdir\n",
    "plt.rcParams['ytick.direction'] = tdir\n",
    "plt.rcParams['xtick.major.size'] = major\n",
    "plt.rcParams['xtick.minor.size'] = minor\n",
    "plt.rcParams['ytick.major.size'] = 5.0\n",
    "plt.rcParams['ytick.minor.size'] = 3.0\n",
    "plt.rcParams['axes.linewidth'] = lwidth\n",
    "plt.rcParams['legend.handlelength'] = 2"
   ]
  },
  {
   "cell_type": "code",
   "execution_count": 4,
   "id": "d77a2a09",
   "metadata": {},
   "outputs": [],
   "source": [
    "random.seed(12)"
   ]
  },
  {
   "cell_type": "code",
   "execution_count": 5,
   "id": "73f126ae",
   "metadata": {},
   "outputs": [],
   "source": [
    "df = pd.read_parquet('~/Dropbox/FX/df_ohlc_all_features.pqt')"
   ]
  },
  {
   "cell_type": "code",
   "execution_count": 6,
   "id": "aaa23acd",
   "metadata": {},
   "outputs": [],
   "source": [
    "df_past = df[:4000]\n",
    "df_future = df[4000:]"
   ]
  },
  {
   "cell_type": "code",
   "execution_count": 9,
   "id": "e5578886",
   "metadata": {},
   "outputs": [],
   "source": [
    "D = 1200\n",
    "sigma = 1\n",
    "ff = 1\n",
    "l = 0\n",
    "roll_size = 200\n",
    "n_bags = 10\n",
    "feature_num = 300 "
   ]
  },
  {
   "cell_type": "code",
   "execution_count": null,
   "id": "c31e5927",
   "metadata": {},
   "outputs": [
    {
     "name": "stderr",
     "output_type": "stream",
     "text": [
      "100%|██████████████████████████████████████████████| 10/10 [00:00<00:00, 135.88it/s]\n"
     ]
    }
   ],
   "source": [
    "last_index_df_past = df_past.index[-1:]\n",
    "indices_df_future = df_future.index[:-1]\n",
    "combined_indices = last_index_df_past.append(indices_df_future)\n",
    "results_df = pd.DataFrame(index=combined_indices)\n",
    "results_df['actual'] = np.nan\n",
    "results_df['mean'] = np.nan\n",
    "\n",
    "# Initialize the neccesary lists\n",
    "models = []\n",
    "bags = []\n",
    "\n",
    "# Select the most recent data from the available dataframe\n",
    "df_model = df_past[-(roll_size+1):] # size is roll_size + 1, because we need 1 more point to make prediction\n",
    "                                    # for that point we don't know the target variable yet\n",
    "\n",
    "# calculate targets and scale the data\n",
    "Y, X, scaler_Y, scaler_X = prepare_data(df_model) \n",
    "\n",
    "# perform RFF transformation\n",
    "lags = X.shape[0]\n",
    "rff = GaussianRFF(lags, D, sigma)\n",
    "X_trans = rff.transform(X.reshape(lags, roll_size+1)).T\n",
    "\n",
    "#Sampling features in each bag\n",
    "features_array = sample_features(D,n_bags,feature_num)\n",
    "\n",
    "for p in range(n_bags):\n",
    "    bags.append(X_trans[:,features_array[p]])\n",
    "\n",
    "# Parallel execution of the first loop. Model initialization\n",
    "results = Parallel(n_jobs=-1)(delayed(process_initial_bag)(p, bags, Y, scaler_Y, ff, l, feature_num, roll_size) for p in tqdm(range(0, n_bags)))\n",
    "all_bags_preds = np.array([result[0] for result in results])\n",
    "models = [result[1] for result in results]\n",
    "\n",
    "#Add results in a results dataframe for comparison\n",
    "results_df['actual'].iloc[0] = df_future['close'][0]/df_past['close'][-1]-1 #actual target\n",
    "results_df['mean'].iloc[0] = np.mean(all_bags_preds)\n",
    "\n",
    "#Continue performing forecasts by updating QR_RLS model\n",
    "df_temp = df_model\n",
    "\n",
    "# we need the last row of RFF dataset to append it to train set on next iteration\n",
    "X_old = X_trans[-1,:].T  \n",
    "\n",
    "for i in tqdm(range(0, 200)):\n",
    "    \n",
    "    #Delete old data and append data, that just became available\n",
    "    df_temp = df_temp.iloc[1:]\n",
    "    df_temp = df_temp.append(df_future.iloc[i])\n",
    "    \n",
    "    Y, X, scaler_Y, scaler_X = prepare_data(df_temp)\n",
    "    \n",
    "    ## We need to perform RFF expansion on the new observation row. For which we don't have target\n",
    "    ## And which will be used for forecasting\n",
    "    X_new = rff.transform(X[:, -1:].reshape(lags, 1))\n",
    "    \n",
    "    # Parallel execution of the second loop\n",
    "    all_bags_preds = Parallel(n_jobs=-1)(delayed(process_updated_bag)(p, X_old, X_new, models, scaler_Y, Y, features_array, feature_num) for p in range(0, n_bags))\n",
    "    \n",
    "    #new obeservation will be appended to train set in the next iteration\n",
    "    X_old = X_new \n",
    "    \n",
    "    # record results\n",
    "    results_df['actual'].iloc[i+1] = df_future['close'][i+1]/df_temp['close'][-1]-1 #actual target\n",
    "    results_df['mean'].iloc[i+1] = np.mean(all_bags_preds)\n",
    "    \n",
    "    if i % 10 == 0:\n",
    "        \n",
    "        same_sign_count = ((results_df['mean'][:i] > 0) & (results_df['actual'][:i] > 0)).sum() + ((results_df['mean'][:i] < 0) & (results_df['actual'][:i] < 0)).sum()\n",
    "\n",
    "        # Calculate the percentage\n",
    "        total_rows = len(results_df['mean'][:i])\n",
    "        percentage_same_sign = (same_sign_count / total_rows) * 100\n",
    "\n",
    "        print(f\"Accuracy on iteration {i}: {percentage_same_sign:.2f}%\")"
   ]
  },
  {
   "cell_type": "code",
   "execution_count": null,
   "id": "e782d6bf",
   "metadata": {},
   "outputs": [],
   "source": [
    "df_perf,p = fx_backtest(10000,results_df, df, hold_enabled=True, n=roll_size, p=10)"
   ]
  },
  {
   "cell_type": "code",
   "execution_count": null,
   "id": "32964cba",
   "metadata": {},
   "outputs": [],
   "source": [
    "plt.plot(df_perf['portfolio_value'])\n",
    "plt.xticks(rotation=45)\n",
    "plt.show"
   ]
  },
  {
   "cell_type": "code",
   "execution_count": null,
   "id": "88a36d9a",
   "metadata": {},
   "outputs": [],
   "source": [
    "store_results(df_perf,D,ff,roll_size,n_bags,feature_num,p)"
   ]
  },
  {
   "cell_type": "code",
   "execution_count": null,
   "id": "31a917fa",
   "metadata": {},
   "outputs": [],
   "source": []
  }
 ],
 "metadata": {
  "kernelspec": {
   "display_name": "Python 3 (ipykernel)",
   "language": "python",
   "name": "python3"
  },
  "language_info": {
   "codemirror_mode": {
    "name": "ipython",
    "version": 3
   },
   "file_extension": ".py",
   "mimetype": "text/x-python",
   "name": "python",
   "nbconvert_exporter": "python",
   "pygments_lexer": "ipython3",
   "version": "3.11.5"
  }
 },
 "nbformat": 4,
 "nbformat_minor": 5
}
